{
 "cells": [
  {
   "cell_type": "code",
   "execution_count": 113,
   "id": "decent-herald",
   "metadata": {},
   "outputs": [],
   "source": [
    "import pandas as pd\n",
    "from rdkit.Chem import AllChem as Chem\n",
    "from rdkit.Chem import Descriptors\n",
    "import numpy as np\n",
    "from sklearn import ensemble, linear_model, metrics, model_selection, discriminant_analysis, preprocessing, multiclass, svm,neighbors\n",
    "from sklearn import datasets, linear_model, metrics, model_selection, pipeline, preprocessing, multiclass\n",
    "from sklearn.feature_extraction.text import CountVectorizer, TfidfVectorizer\n",
    "import scipy\n",
    "import lightgbm as lgbm\n",
    "import pickle"
   ]
  },
  {
   "cell_type": "code",
   "execution_count": 114,
   "id": "quantitative-patrol",
   "metadata": {},
   "outputs": [],
   "source": [
    "TRAIN = 'C:\\\\Users\\\\krvet\\\\Documents\\\\GitHub\\\\aicrowd_learn_to_smell\\\\data\\\\train_df.csv'\n",
    "VALIDATION = 'C:\\\\Users\\\\krvet\\\\Documents\\\\GitHub\\\\aicrowd_learn_to_smell\\\\data\\\\validation_df.csv'\n",
    "HOLD_OUT_DF = 'C:\\\\Users\\\\krvet\\\\Documents\\\\GitHub\\\\aicrowd_learn_to_smell\\\\data\\\\hold_out_df.csv'\n",
    "VOCABULARY = 'C:\\\\Users\\\\krvet\\\\Documents\\\\GitHub\\\\aicrowd_learn_to_smell\\\\data\\\\data_round-3_vocabulary.txt'\n",
    "DATA = 'C:\\\\Users\\\\krvet\\\\Documents\\\\GitHub\\\\aicrowd_learn_to_smell\\\\data\\\\train.csv'"
   ]
  },
  {
   "cell_type": "code",
   "execution_count": 115,
   "id": "featured-cache",
   "metadata": {},
   "outputs": [],
   "source": [
    "train = pd.read_csv(TRAIN)\n",
    "validation = pd.read_csv(VALIDATION)\n",
    "hold = pd.read_csv(HOLD_OUT_DF)\n",
    "data = pd.read_csv(DATA)"
   ]
  },
  {
   "cell_type": "code",
   "execution_count": 117,
   "id": "satisfactory-weapon",
   "metadata": {},
   "outputs": [
    {
     "data": {
      "text/html": [
       "<div>\n",
       "<style scoped>\n",
       "    .dataframe tbody tr th:only-of-type {\n",
       "        vertical-align: middle;\n",
       "    }\n",
       "\n",
       "    .dataframe tbody tr th {\n",
       "        vertical-align: top;\n",
       "    }\n",
       "\n",
       "    .dataframe thead th {\n",
       "        text-align: right;\n",
       "    }\n",
       "</style>\n",
       "<table border=\"1\" class=\"dataframe\">\n",
       "  <thead>\n",
       "    <tr style=\"text-align: right;\">\n",
       "      <th></th>\n",
       "      <th>SMILES</th>\n",
       "      <th>SENTENCE</th>\n",
       "    </tr>\n",
       "  </thead>\n",
       "  <tbody>\n",
       "    <tr>\n",
       "      <th>0</th>\n",
       "      <td>C/C=C/C(=O)C1CCC(C=C1C)(C)C</td>\n",
       "      <td>fruity,rose</td>\n",
       "    </tr>\n",
       "    <tr>\n",
       "      <th>1</th>\n",
       "      <td>COC(=O)OC</td>\n",
       "      <td>fresh,ethereal,fruity</td>\n",
       "    </tr>\n",
       "    <tr>\n",
       "      <th>2</th>\n",
       "      <td>Cc1cc2c([nH]1)cccc2</td>\n",
       "      <td>resinous,animalic</td>\n",
       "    </tr>\n",
       "    <tr>\n",
       "      <th>3</th>\n",
       "      <td>C1CCCCCCCC(=O)CCCCCCC1</td>\n",
       "      <td>powdery,musk,animalic</td>\n",
       "    </tr>\n",
       "    <tr>\n",
       "      <th>4</th>\n",
       "      <td>CC(CC(=O)OC1CC2C(C1(C)CC2)(C)C)C</td>\n",
       "      <td>coniferous,camphor,fruity</td>\n",
       "    </tr>\n",
       "    <tr>\n",
       "      <th>...</th>\n",
       "      <td>...</td>\n",
       "      <td>...</td>\n",
       "    </tr>\n",
       "    <tr>\n",
       "      <th>4311</th>\n",
       "      <td>CCOC(=O)[C@]12CCC[C@@H]2[C@H]2C[C@@H]1CC2</td>\n",
       "      <td>floral,citrus</td>\n",
       "    </tr>\n",
       "    <tr>\n",
       "      <th>4312</th>\n",
       "      <td>CC1(O)C2(C)CCCC1(C)CC2</td>\n",
       "      <td>watery,earthy</td>\n",
       "    </tr>\n",
       "    <tr>\n",
       "      <th>4313</th>\n",
       "      <td>C1CC(=N[C@@H]1C(=O)O)O</td>\n",
       "      <td>sweet,ethereal</td>\n",
       "    </tr>\n",
       "    <tr>\n",
       "      <th>4314</th>\n",
       "      <td>CCCc1c(C)ncc(C)n1</td>\n",
       "      <td>nut</td>\n",
       "    </tr>\n",
       "    <tr>\n",
       "      <th>4315</th>\n",
       "      <td>COC1C=CC2C1C1CCC2C1</td>\n",
       "      <td>woody,floral</td>\n",
       "    </tr>\n",
       "  </tbody>\n",
       "</table>\n",
       "<p>4316 rows × 2 columns</p>\n",
       "</div>"
      ],
      "text/plain": [
       "                                         SMILES                   SENTENCE\n",
       "0                   C/C=C/C(=O)C1CCC(C=C1C)(C)C                fruity,rose\n",
       "1                                     COC(=O)OC      fresh,ethereal,fruity\n",
       "2                           Cc1cc2c([nH]1)cccc2          resinous,animalic\n",
       "3                        C1CCCCCCCC(=O)CCCCCCC1      powdery,musk,animalic\n",
       "4              CC(CC(=O)OC1CC2C(C1(C)CC2)(C)C)C  coniferous,camphor,fruity\n",
       "...                                         ...                        ...\n",
       "4311  CCOC(=O)[C@]12CCC[C@@H]2[C@H]2C[C@@H]1CC2              floral,citrus\n",
       "4312                     CC1(O)C2(C)CCCC1(C)CC2              watery,earthy\n",
       "4313                     C1CC(=N[C@@H]1C(=O)O)O             sweet,ethereal\n",
       "4314                          CCCc1c(C)ncc(C)n1                        nut\n",
       "4315                        COC1C=CC2C1C1CCC2C1               woody,floral\n",
       "\n",
       "[4316 rows x 2 columns]"
      ]
     },
     "execution_count": 117,
     "metadata": {},
     "output_type": "execute_result"
    }
   ],
   "source": [
    "data"
   ]
  },
  {
   "cell_type": "code",
   "execution_count": 118,
   "id": "resident-mistress",
   "metadata": {},
   "outputs": [],
   "source": [
    "smels = [line.rstrip('\\n') for line in open(VOCABULARY)]"
   ]
  },
  {
   "cell_type": "code",
   "execution_count": 119,
   "id": "endangered-finder",
   "metadata": {
    "scrolled": true
   },
   "outputs": [],
   "source": [
    "def remove_smels(x):\n",
    "    df = x.copy()\n",
    "    df['SENTENCE'] = df['SENTENCE'].apply(lambda x: x.split(','))\n",
    "    df['SENTENCE'] = df['SENTENCE'].apply(lambda x: [j for j in x if j in smels])\n",
    "    return df"
   ]
  },
  {
   "cell_type": "code",
   "execution_count": 120,
   "id": "expensive-praise",
   "metadata": {},
   "outputs": [],
   "source": [
    "train_true = remove_smels(train)\n",
    "validation_true = remove_smels(validation)\n",
    "hold_true = remove_smels(hold)\n",
    "data_true = remove_smels(data)"
   ]
  },
  {
   "cell_type": "code",
   "execution_count": 8,
   "id": "posted-services",
   "metadata": {},
   "outputs": [
    {
     "data": {
      "image/png": "[encoded data removed]",
      "text/plain": [
       "<PIL.PngImagePlugin.PngImageFile image mode=RGB size=300x300 at 0x2494CA880D0>"
      ]
     },
     "execution_count": 8,
     "metadata": {},
     "output_type": "execute_result"
    }
   ],
   "source": [
    "wer = Chem.MolFromSmiles('CC(C)C')\n",
    "Chem.Draw.MolToImage(wer)"
   ]
  },
  {
   "cell_type": "code",
   "execution_count": 9,
   "id": "restricted-henry",
   "metadata": {},
   "outputs": [
    {
     "ename": "NameError",
     "evalue": "name 'find_counts' is not defined",
     "output_type": "error",
     "traceback": [
      "\u001b[1;31m---------------------------------------------------------------------------\u001b[0m",
      "\u001b[1;31mNameError\u001b[0m                                 Traceback (most recent call last)",
      "\u001b[1;32m<ipython-input-9-d5eef548c639>\u001b[0m in \u001b[0;36m<module>\u001b[1;34m\u001b[0m\n\u001b[1;32m----> 1\u001b[1;33m \u001b[0mfind_counts\u001b[0m\u001b[1;33m(\u001b[0m\u001b[1;34m'CC(C)C'\u001b[0m\u001b[1;33m,\u001b[0m \u001b[1;34m'CCC'\u001b[0m\u001b[1;33m)\u001b[0m\u001b[1;33m\u001b[0m\u001b[1;33m\u001b[0m\u001b[0m\n\u001b[0m",
      "\u001b[1;31mNameError\u001b[0m: name 'find_counts' is not defined"
     ]
    }
   ],
   "source": [
    "find_counts('CC(C)C', 'CCC')"
   ]
  },
  {
   "cell_type": "code",
   "execution_count": 121,
   "id": "cleared-international",
   "metadata": {},
   "outputs": [
    {
     "data": {
      "text/html": [
       "<div>\n",
       "<style scoped>\n",
       "    .dataframe tbody tr th:only-of-type {\n",
       "        vertical-align: middle;\n",
       "    }\n",
       "\n",
       "    .dataframe tbody tr th {\n",
       "        vertical-align: top;\n",
       "    }\n",
       "\n",
       "    .dataframe thead th {\n",
       "        text-align: right;\n",
       "    }\n",
       "</style>\n",
       "<table border=\"1\" class=\"dataframe\">\n",
       "  <thead>\n",
       "    <tr style=\"text-align: right;\">\n",
       "      <th></th>\n",
       "      <th>SMILES</th>\n",
       "      <th>SENTENCE</th>\n",
       "    </tr>\n",
       "  </thead>\n",
       "  <tbody>\n",
       "    <tr>\n",
       "      <th>0</th>\n",
       "      <td>C/C=C/C(=O)C1CCC(C=C1C)(C)C</td>\n",
       "      <td>[fruity, rose]</td>\n",
       "    </tr>\n",
       "    <tr>\n",
       "      <th>1</th>\n",
       "      <td>COC(=O)OC</td>\n",
       "      <td>[fresh, ethereal, fruity]</td>\n",
       "    </tr>\n",
       "    <tr>\n",
       "      <th>2</th>\n",
       "      <td>Cc1cc2c([nH]1)cccc2</td>\n",
       "      <td>[resinous, animalic]</td>\n",
       "    </tr>\n",
       "    <tr>\n",
       "      <th>3</th>\n",
       "      <td>C1CCCCCCCC(=O)CCCCCCC1</td>\n",
       "      <td>[powdery, musk, animalic]</td>\n",
       "    </tr>\n",
       "    <tr>\n",
       "      <th>4</th>\n",
       "      <td>CC(CC(=O)OC1CC2C(C1(C)CC2)(C)C)C</td>\n",
       "      <td>[camphor, fruity]</td>\n",
       "    </tr>\n",
       "    <tr>\n",
       "      <th>...</th>\n",
       "      <td>...</td>\n",
       "      <td>...</td>\n",
       "    </tr>\n",
       "    <tr>\n",
       "      <th>4311</th>\n",
       "      <td>CCOC(=O)[C@]12CCC[C@@H]2[C@H]2C[C@@H]1CC2</td>\n",
       "      <td>[floral, citrus]</td>\n",
       "    </tr>\n",
       "    <tr>\n",
       "      <th>4312</th>\n",
       "      <td>CC1(O)C2(C)CCCC1(C)CC2</td>\n",
       "      <td>[watery, earthy]</td>\n",
       "    </tr>\n",
       "    <tr>\n",
       "      <th>4313</th>\n",
       "      <td>C1CC(=N[C@@H]1C(=O)O)O</td>\n",
       "      <td>[sweet, ethereal]</td>\n",
       "    </tr>\n",
       "    <tr>\n",
       "      <th>4314</th>\n",
       "      <td>CCCc1c(C)ncc(C)n1</td>\n",
       "      <td>[nut]</td>\n",
       "    </tr>\n",
       "    <tr>\n",
       "      <th>4315</th>\n",
       "      <td>COC1C=CC2C1C1CCC2C1</td>\n",
       "      <td>[woody, floral]</td>\n",
       "    </tr>\n",
       "  </tbody>\n",
       "</table>\n",
       "<p>4316 rows × 2 columns</p>\n",
       "</div>"
      ],
      "text/plain": [
       "                                         SMILES                   SENTENCE\n",
       "0                   C/C=C/C(=O)C1CCC(C=C1C)(C)C             [fruity, rose]\n",
       "1                                     COC(=O)OC  [fresh, ethereal, fruity]\n",
       "2                           Cc1cc2c([nH]1)cccc2       [resinous, animalic]\n",
       "3                        C1CCCCCCCC(=O)CCCCCCC1  [powdery, musk, animalic]\n",
       "4              CC(CC(=O)OC1CC2C(C1(C)CC2)(C)C)C          [camphor, fruity]\n",
       "...                                         ...                        ...\n",
       "4311  CCOC(=O)[C@]12CCC[C@@H]2[C@H]2C[C@@H]1CC2           [floral, citrus]\n",
       "4312                     CC1(O)C2(C)CCCC1(C)CC2           [watery, earthy]\n",
       "4313                     C1CC(=N[C@@H]1C(=O)O)O          [sweet, ethereal]\n",
       "4314                          CCCc1c(C)ncc(C)n1                      [nut]\n",
       "4315                        COC1C=CC2C1C1CCC2C1            [woody, floral]\n",
       "\n",
       "[4316 rows x 2 columns]"
      ]
     },
     "execution_count": 121,
     "metadata": {},
     "output_type": "execute_result"
    }
   ],
   "source": [
    "data_true"
   ]
  },
  {
   "cell_type": "code",
   "execution_count": 122,
   "id": "double-priority",
   "metadata": {},
   "outputs": [],
   "source": [
    "def find_counts(s, m):\n",
    "    template = Chem.MolFromSmiles(s)\n",
    "    return len(template.GetSubstructMatches(Chem.MolFromSmiles(m)))"
   ]
  },
  {
   "cell_type": "code",
   "execution_count": 123,
   "id": "dominican-channels",
   "metadata": {},
   "outputs": [],
   "source": [
    "def find_arr(x, str):\n",
    "    a = 0\n",
    "    for i in x:\n",
    "        if i == str:\n",
    "            a+=1\n",
    "    return a"
   ]
  },
  {
   "cell_type": "code",
   "execution_count": 124,
   "id": "resident-school",
   "metadata": {},
   "outputs": [],
   "source": [
    "def find_rings_arr(s, arr=False):\n",
    "    template = Chem.MolFromSmiles(s)\n",
    "    ri = template.GetRingInfo().BondRings()\n",
    "    a = 0\n",
    "    n = 0\n",
    "    for mol in ri:\n",
    "        arom = True\n",
    "        for id in mol:\n",
    "            if template.GetBondWithIdx(id).GetIsAromatic():\n",
    "                arom &= False\n",
    "        if arom:\n",
    "            a += 1\n",
    "        else:\n",
    "            n += 1    \n",
    "    if arr:\n",
    "        return n\n",
    "    else:\n",
    "        return a"
   ]
  },
  {
   "cell_type": "code",
   "execution_count": 125,
   "id": "productive-newark",
   "metadata": {},
   "outputs": [],
   "source": [
    "def find_pattern(data):\n",
    "    df = data.copy()\n",
    "    df['arr C'] = df['SMILES'].apply(lambda x: len(Chem.MolFromSmiles(x).GetSubstructMatches(Chem.MolFromSmarts('c'))))\n",
    "    df['C'] = df['SMILES'].apply(lambda x: find_counts(x, 'C')) - df['arr C']\n",
    "    df['C4'] = df['SMILES'].apply(lambda x: find_counts(x, 'CC(C)(C)C'))\n",
    "    df['C3'] = df['SMILES'].apply(lambda x: find_counts(x, 'CC(C)C')) - 4 * df['C4']\n",
    "    df['C2'] = df['SMILES'].apply(lambda x: find_counts(x, 'CCC')) - 6 * df['C4'] - 3 * df['C3']\n",
    "    df['2_C'] = df['SMILES'].apply(lambda x: find_counts(x, 'C=C'))\n",
    "    df['3_C'] = df['SMILES'].apply(lambda x: find_counts(x, 'C#C'))\n",
    "    df['ester'] = df['SMILES'].apply(lambda x: find_counts(x, 'OC(=O)'))\n",
    "    df['ether'] = df['SMILES'].apply(lambda x: find_counts(x, 'COC'))  - df['ester']\n",
    "    df['ketone'] = df['SMILES'].apply(lambda x: find_counts(x, 'CC(=O)C'))\n",
    "    df['aldehyde'] = df['SMILES'].apply(lambda x: find_counts(x, 'C(=O)')) - df['ester'] - df['ketone']\n",
    "    df['alchogol'] = df['SMILES'].apply(lambda x: find_counts(x, 'C(O)') - 2*find_counts(x, 'COC'))\n",
    "    df['arr S'] = df['SMILES'].apply(lambda x: len(Chem.MolFromSmiles(x).GetSubstructMatches(Chem.MolFromSmarts('s'))))\n",
    "    df['S'] = df['SMILES'].apply(lambda x: find_counts(x, 'S')) - df['arr S']\n",
    "    df['arr P'] = df['SMILES'].apply(lambda x: len(Chem.MolFromSmiles(x).GetSubstructMatches(Chem.MolFromSmarts('p'))))\n",
    "    df['P'] = df['SMILES'].apply(lambda x: find_counts(x, 'P')) - df['arr P']\n",
    "    df['arr N'] = df['SMILES'].apply(lambda x: len(Chem.MolFromSmiles(x).GetSubstructMatches(Chem.MolFromSmarts('n'))))\n",
    "    df['N'] = df['SMILES'].apply(lambda x: find_counts(x, 'N')) - df['arr N']\n",
    "    df['F'] = df['SMILES'].apply(lambda x: find_counts(x, 'F'))\n",
    "    df['Cl'] = df['SMILES'].apply(lambda x: find_counts(x, 'Cl'))\n",
    "    df['Br'] = df['SMILES'].apply(lambda x: find_counts(x, 'Br'))\n",
    "    df['Rings'] = df['SMILES'].apply(lambda x: find_rings_arr(x))\n",
    "    df['Arr Rings'] = df['SMILES'].apply(lambda x: find_rings_arr(x, True))\n",
    "    df['Arr Rings N'] = df['SMILES'].apply(lambda x: find_arr(x, 'n'))\n",
    "    df['Arr Rings O'] = df['SMILES'].apply(lambda x: find_arr(x, 'o'))\n",
    "    df['Arr Rings S'] = df['SMILES'].apply(lambda x: find_arr(x, 's'))\n",
    "    \n",
    "    df['ExactMolWt'] = df['SMILES'].apply(lambda x: Descriptors.ExactMolWt(Chem.MolFromSmiles(x)))\n",
    "    df['TPSA'] = df['SMILES'].apply(lambda x: Descriptors.TPSA(Chem.MolFromSmiles(x)))\n",
    "    df['MolLogP'] = df['SMILES'].apply(lambda x: Descriptors.MolLogP(Chem.MolFromSmiles(x)))\n",
    "\n",
    "    df['HeavyAtomCount'] = df['SMILES'].apply(lambda x: Descriptors.HeavyAtomCount(Chem.MolFromSmiles(x)))\n",
    "    df['HeavyAtomMolWt'] = df['SMILES'].apply(lambda x: Descriptors.HeavyAtomMolWt(Chem.MolFromSmiles(x)))\n",
    "    df['NHOHCount'] = df['SMILES'].apply(lambda x: Descriptors.NHOHCount(Chem.MolFromSmiles(x)))\n",
    "    df['NOCount'] = df['SMILES'].apply(lambda x: Descriptors.NOCount(Chem.MolFromSmiles(x)))\n",
    "    df['NumHAcceptors'] = df['SMILES'].apply(lambda x: Descriptors.NumHAcceptors(Chem.MolFromSmiles(x)))\n",
    "    df['NumHDonors'] = df['SMILES'].apply(lambda x: Descriptors.NumHDonors(Chem.MolFromSmiles(x)))\n",
    "    df['NumHeteroatoms'] = df['SMILES'].apply(lambda x: Descriptors.NumHeteroatoms(Chem.MolFromSmiles(x)))\n",
    "    df['NumRotatableBonds'] = df['SMILES'].apply(lambda x: Descriptors.NumRotatableBonds(Chem.MolFromSmiles(x)))\n",
    "    df['NumValenceElectrons'] = df['SMILES'].apply(lambda x: Descriptors.NumValenceElectrons(Chem.MolFromSmiles(x)))\n",
    "    df['NumAromaticRings'] = df['SMILES'].apply(lambda x: Descriptors.NumAromaticRings(Chem.MolFromSmiles(x)))\n",
    "    df['NumSaturatedRings'] = df['SMILES'].apply(lambda x: Descriptors.NumSaturatedRings(Chem.MolFromSmiles(x)))\n",
    "    df['NumAliphaticRings'] = df['SMILES'].apply(lambda x: Descriptors.NumAliphaticRings(Chem.MolFromSmiles(x)))\n",
    "    df['NumAliphaticCarbocycles'] = df['SMILES'].apply(lambda x: Descriptors.NumAliphaticCarbocycles(Chem.MolFromSmiles(x)))\n",
    "    df['NumAliphaticHeterocycles'] = df['SMILES'].apply(lambda x: Descriptors.NumAliphaticHeterocycles(Chem.MolFromSmiles(x)))\n",
    "    df['NumAromaticCarbocycles'] = df['SMILES'].apply(lambda x: Descriptors.NumAromaticCarbocycles(Chem.MolFromSmiles(x)))\n",
    "    df['NumAromaticHeterocycles'] = df['SMILES'].apply(lambda x: Descriptors.NumAromaticHeterocycles(Chem.MolFromSmiles(x)))\n",
    "    df['NumSaturatedHeterocycles'] = df['SMILES'].apply(lambda x: Descriptors.NumSaturatedHeterocycles(Chem.MolFromSmiles(x)))\n",
    "    df['NumSaturatedCarbocycles'] = df['SMILES'].apply(lambda x: Descriptors.NumSaturatedCarbocycles(Chem.MolFromSmiles(x)))\n",
    "    return df"
   ]
  },
  {
   "cell_type": "code",
   "execution_count": 126,
   "id": "surprising-vancouver",
   "metadata": {},
   "outputs": [],
   "source": [
    "train_count = find_pattern(train_true)\n",
    "validation_count = find_pattern(validation_true)\n",
    "hold_count = find_pattern(hold_true)\n",
    "data_count = find_pattern(data_true)"
   ]
  },
  {
   "cell_type": "code",
   "execution_count": 127,
   "id": "selective-profit",
   "metadata": {},
   "outputs": [
    {
     "data": {
      "text/html": [
       "<div>\n",
       "<style scoped>\n",
       "    .dataframe tbody tr th:only-of-type {\n",
       "        vertical-align: middle;\n",
       "    }\n",
       "\n",
       "    .dataframe tbody tr th {\n",
       "        vertical-align: top;\n",
       "    }\n",
       "\n",
       "    .dataframe thead th {\n",
       "        text-align: right;\n",
       "    }\n",
       "</style>\n",
       "<table border=\"1\" class=\"dataframe\">\n",
       "  <thead>\n",
       "    <tr style=\"text-align: right;\">\n",
       "      <th></th>\n",
       "      <th>SMILES</th>\n",
       "      <th>SENTENCE</th>\n",
       "      <th>arr C</th>\n",
       "      <th>C</th>\n",
       "      <th>C4</th>\n",
       "      <th>C3</th>\n",
       "      <th>C2</th>\n",
       "      <th>2_C</th>\n",
       "      <th>3_C</th>\n",
       "      <th>ester</th>\n",
       "      <th>...</th>\n",
       "      <th>NumValenceElectrons</th>\n",
       "      <th>NumAromaticRings</th>\n",
       "      <th>NumSaturatedRings</th>\n",
       "      <th>NumAliphaticRings</th>\n",
       "      <th>NumAliphaticCarbocycles</th>\n",
       "      <th>NumAliphaticHeterocycles</th>\n",
       "      <th>NumAromaticCarbocycles</th>\n",
       "      <th>NumAromaticHeterocycles</th>\n",
       "      <th>NumSaturatedHeterocycles</th>\n",
       "      <th>NumSaturatedCarbocycles</th>\n",
       "    </tr>\n",
       "  </thead>\n",
       "  <tbody>\n",
       "    <tr>\n",
       "      <th>0</th>\n",
       "      <td>C/C=C/C(=O)C1CCC(C=C1C)(C)C</td>\n",
       "      <td>[fruity, rose]</td>\n",
       "      <td>0</td>\n",
       "      <td>13</td>\n",
       "      <td>1</td>\n",
       "      <td>1</td>\n",
       "      <td>4</td>\n",
       "      <td>2</td>\n",
       "      <td>0</td>\n",
       "      <td>0</td>\n",
       "      <td>...</td>\n",
       "      <td>78</td>\n",
       "      <td>0</td>\n",
       "      <td>0</td>\n",
       "      <td>1</td>\n",
       "      <td>1</td>\n",
       "      <td>0</td>\n",
       "      <td>0</td>\n",
       "      <td>0</td>\n",
       "      <td>0</td>\n",
       "      <td>0</td>\n",
       "    </tr>\n",
       "    <tr>\n",
       "      <th>1</th>\n",
       "      <td>COC(=O)OC</td>\n",
       "      <td>[fresh, ethereal, fruity]</td>\n",
       "      <td>0</td>\n",
       "      <td>3</td>\n",
       "      <td>0</td>\n",
       "      <td>0</td>\n",
       "      <td>0</td>\n",
       "      <td>0</td>\n",
       "      <td>0</td>\n",
       "      <td>2</td>\n",
       "      <td>...</td>\n",
       "      <td>36</td>\n",
       "      <td>0</td>\n",
       "      <td>0</td>\n",
       "      <td>0</td>\n",
       "      <td>0</td>\n",
       "      <td>0</td>\n",
       "      <td>0</td>\n",
       "      <td>0</td>\n",
       "      <td>0</td>\n",
       "      <td>0</td>\n",
       "    </tr>\n",
       "    <tr>\n",
       "      <th>2</th>\n",
       "      <td>Cc1cc2c([nH]1)cccc2</td>\n",
       "      <td>[resinous, animalic]</td>\n",
       "      <td>8</td>\n",
       "      <td>1</td>\n",
       "      <td>0</td>\n",
       "      <td>0</td>\n",
       "      <td>0</td>\n",
       "      <td>0</td>\n",
       "      <td>0</td>\n",
       "      <td>0</td>\n",
       "      <td>...</td>\n",
       "      <td>50</td>\n",
       "      <td>2</td>\n",
       "      <td>0</td>\n",
       "      <td>0</td>\n",
       "      <td>0</td>\n",
       "      <td>0</td>\n",
       "      <td>1</td>\n",
       "      <td>1</td>\n",
       "      <td>0</td>\n",
       "      <td>0</td>\n",
       "    </tr>\n",
       "    <tr>\n",
       "      <th>3</th>\n",
       "      <td>C1CCCCCCCC(=O)CCCCCCC1</td>\n",
       "      <td>[powdery, musk, animalic]</td>\n",
       "      <td>0</td>\n",
       "      <td>16</td>\n",
       "      <td>0</td>\n",
       "      <td>0</td>\n",
       "      <td>16</td>\n",
       "      <td>0</td>\n",
       "      <td>0</td>\n",
       "      <td>0</td>\n",
       "      <td>...</td>\n",
       "      <td>100</td>\n",
       "      <td>0</td>\n",
       "      <td>1</td>\n",
       "      <td>1</td>\n",
       "      <td>1</td>\n",
       "      <td>0</td>\n",
       "      <td>0</td>\n",
       "      <td>0</td>\n",
       "      <td>0</td>\n",
       "      <td>1</td>\n",
       "    </tr>\n",
       "    <tr>\n",
       "      <th>4</th>\n",
       "      <td>CC(CC(=O)OC1CC2C(C1(C)CC2)(C)C)C</td>\n",
       "      <td>[camphor, fruity]</td>\n",
       "      <td>0</td>\n",
       "      <td>15</td>\n",
       "      <td>2</td>\n",
       "      <td>2</td>\n",
       "      <td>5</td>\n",
       "      <td>0</td>\n",
       "      <td>0</td>\n",
       "      <td>1</td>\n",
       "      <td>...</td>\n",
       "      <td>98</td>\n",
       "      <td>0</td>\n",
       "      <td>2</td>\n",
       "      <td>2</td>\n",
       "      <td>2</td>\n",
       "      <td>0</td>\n",
       "      <td>0</td>\n",
       "      <td>0</td>\n",
       "      <td>0</td>\n",
       "      <td>2</td>\n",
       "    </tr>\n",
       "    <tr>\n",
       "      <th>...</th>\n",
       "      <td>...</td>\n",
       "      <td>...</td>\n",
       "      <td>...</td>\n",
       "      <td>...</td>\n",
       "      <td>...</td>\n",
       "      <td>...</td>\n",
       "      <td>...</td>\n",
       "      <td>...</td>\n",
       "      <td>...</td>\n",
       "      <td>...</td>\n",
       "      <td>...</td>\n",
       "      <td>...</td>\n",
       "      <td>...</td>\n",
       "      <td>...</td>\n",
       "      <td>...</td>\n",
       "      <td>...</td>\n",
       "      <td>...</td>\n",
       "      <td>...</td>\n",
       "      <td>...</td>\n",
       "      <td>...</td>\n",
       "      <td>...</td>\n",
       "    </tr>\n",
       "    <tr>\n",
       "      <th>4311</th>\n",
       "      <td>CCOC(=O)[C@]12CCC[C@@H]2[C@H]2C[C@@H]1CC2</td>\n",
       "      <td>[floral, citrus]</td>\n",
       "      <td>0</td>\n",
       "      <td>13</td>\n",
       "      <td>1</td>\n",
       "      <td>3</td>\n",
       "      <td>6</td>\n",
       "      <td>0</td>\n",
       "      <td>0</td>\n",
       "      <td>1</td>\n",
       "      <td>...</td>\n",
       "      <td>84</td>\n",
       "      <td>0</td>\n",
       "      <td>3</td>\n",
       "      <td>3</td>\n",
       "      <td>3</td>\n",
       "      <td>0</td>\n",
       "      <td>0</td>\n",
       "      <td>0</td>\n",
       "      <td>0</td>\n",
       "      <td>3</td>\n",
       "    </tr>\n",
       "    <tr>\n",
       "      <th>4312</th>\n",
       "      <td>CC1(O)C2(C)CCCC1(C)CC2</td>\n",
       "      <td>[watery, earthy]</td>\n",
       "      <td>0</td>\n",
       "      <td>11</td>\n",
       "      <td>2</td>\n",
       "      <td>1</td>\n",
       "      <td>5</td>\n",
       "      <td>0</td>\n",
       "      <td>0</td>\n",
       "      <td>0</td>\n",
       "      <td>...</td>\n",
       "      <td>70</td>\n",
       "      <td>0</td>\n",
       "      <td>2</td>\n",
       "      <td>2</td>\n",
       "      <td>2</td>\n",
       "      <td>0</td>\n",
       "      <td>0</td>\n",
       "      <td>0</td>\n",
       "      <td>0</td>\n",
       "      <td>2</td>\n",
       "    </tr>\n",
       "    <tr>\n",
       "      <th>4313</th>\n",
       "      <td>C1CC(=N[C@@H]1C(=O)O)O</td>\n",
       "      <td>[sweet, ethereal]</td>\n",
       "      <td>0</td>\n",
       "      <td>5</td>\n",
       "      <td>0</td>\n",
       "      <td>0</td>\n",
       "      <td>3</td>\n",
       "      <td>0</td>\n",
       "      <td>0</td>\n",
       "      <td>1</td>\n",
       "      <td>...</td>\n",
       "      <td>50</td>\n",
       "      <td>0</td>\n",
       "      <td>0</td>\n",
       "      <td>1</td>\n",
       "      <td>0</td>\n",
       "      <td>1</td>\n",
       "      <td>0</td>\n",
       "      <td>0</td>\n",
       "      <td>0</td>\n",
       "      <td>0</td>\n",
       "    </tr>\n",
       "    <tr>\n",
       "      <th>4314</th>\n",
       "      <td>CCCc1c(C)ncc(C)n1</td>\n",
       "      <td>[nut]</td>\n",
       "      <td>4</td>\n",
       "      <td>5</td>\n",
       "      <td>0</td>\n",
       "      <td>0</td>\n",
       "      <td>2</td>\n",
       "      <td>0</td>\n",
       "      <td>0</td>\n",
       "      <td>0</td>\n",
       "      <td>...</td>\n",
       "      <td>60</td>\n",
       "      <td>1</td>\n",
       "      <td>0</td>\n",
       "      <td>0</td>\n",
       "      <td>0</td>\n",
       "      <td>0</td>\n",
       "      <td>0</td>\n",
       "      <td>1</td>\n",
       "      <td>0</td>\n",
       "      <td>0</td>\n",
       "    </tr>\n",
       "    <tr>\n",
       "      <th>4315</th>\n",
       "      <td>COC1C=CC2C1C1CCC2C1</td>\n",
       "      <td>[woody, floral]</td>\n",
       "      <td>0</td>\n",
       "      <td>11</td>\n",
       "      <td>0</td>\n",
       "      <td>4</td>\n",
       "      <td>4</td>\n",
       "      <td>1</td>\n",
       "      <td>0</td>\n",
       "      <td>0</td>\n",
       "      <td>...</td>\n",
       "      <td>66</td>\n",
       "      <td>0</td>\n",
       "      <td>2</td>\n",
       "      <td>3</td>\n",
       "      <td>3</td>\n",
       "      <td>0</td>\n",
       "      <td>0</td>\n",
       "      <td>0</td>\n",
       "      <td>0</td>\n",
       "      <td>2</td>\n",
       "    </tr>\n",
       "  </tbody>\n",
       "</table>\n",
       "<p>4316 rows × 49 columns</p>\n",
       "</div>"
      ],
      "text/plain": [
       "                                         SMILES                   SENTENCE  \\\n",
       "0                   C/C=C/C(=O)C1CCC(C=C1C)(C)C             [fruity, rose]   \n",
       "1                                     COC(=O)OC  [fresh, ethereal, fruity]   \n",
       "2                           Cc1cc2c([nH]1)cccc2       [resinous, animalic]   \n",
       "3                        C1CCCCCCCC(=O)CCCCCCC1  [powdery, musk, animalic]   \n",
       "4              CC(CC(=O)OC1CC2C(C1(C)CC2)(C)C)C          [camphor, fruity]   \n",
       "...                                         ...                        ...   \n",
       "4311  CCOC(=O)[C@]12CCC[C@@H]2[C@H]2C[C@@H]1CC2           [floral, citrus]   \n",
       "4312                     CC1(O)C2(C)CCCC1(C)CC2           [watery, earthy]   \n",
       "4313                     C1CC(=N[C@@H]1C(=O)O)O          [sweet, ethereal]   \n",
       "4314                          CCCc1c(C)ncc(C)n1                      [nut]   \n",
       "4315                        COC1C=CC2C1C1CCC2C1            [woody, floral]   \n",
       "\n",
       "      arr C   C  C4  C3  C2  2_C  3_C  ester  ...  NumValenceElectrons  \\\n",
       "0         0  13   1   1   4    2    0      0  ...                   78   \n",
       "1         0   3   0   0   0    0    0      2  ...                   36   \n",
       "2         8   1   0   0   0    0    0      0  ...                   50   \n",
       "3         0  16   0   0  16    0    0      0  ...                  100   \n",
       "4         0  15   2   2   5    0    0      1  ...                   98   \n",
       "...     ...  ..  ..  ..  ..  ...  ...    ...  ...                  ...   \n",
       "4311      0  13   1   3   6    0    0      1  ...                   84   \n",
       "4312      0  11   2   1   5    0    0      0  ...                   70   \n",
       "4313      0   5   0   0   3    0    0      1  ...                   50   \n",
       "4314      4   5   0   0   2    0    0      0  ...                   60   \n",
       "4315      0  11   0   4   4    1    0      0  ...                   66   \n",
       "\n",
       "      NumAromaticRings  NumSaturatedRings  NumAliphaticRings  \\\n",
       "0                    0                  0                  1   \n",
       "1                    0                  0                  0   \n",
       "2                    2                  0                  0   \n",
       "3                    0                  1                  1   \n",
       "4                    0                  2                  2   \n",
       "...                ...                ...                ...   \n",
       "4311                 0                  3                  3   \n",
       "4312                 0                  2                  2   \n",
       "4313                 0                  0                  1   \n",
       "4314                 1                  0                  0   \n",
       "4315                 0                  2                  3   \n",
       "\n",
       "      NumAliphaticCarbocycles  NumAliphaticHeterocycles  \\\n",
       "0                           1                         0   \n",
       "1                           0                         0   \n",
       "2                           0                         0   \n",
       "3                           1                         0   \n",
       "4                           2                         0   \n",
       "...                       ...                       ...   \n",
       "4311                        3                         0   \n",
       "4312                        2                         0   \n",
       "4313                        0                         1   \n",
       "4314                        0                         0   \n",
       "4315                        3                         0   \n",
       "\n",
       "      NumAromaticCarbocycles  NumAromaticHeterocycles  \\\n",
       "0                          0                        0   \n",
       "1                          0                        0   \n",
       "2                          1                        1   \n",
       "3                          0                        0   \n",
       "4                          0                        0   \n",
       "...                      ...                      ...   \n",
       "4311                       0                        0   \n",
       "4312                       0                        0   \n",
       "4313                       0                        0   \n",
       "4314                       0                        1   \n",
       "4315                       0                        0   \n",
       "\n",
       "      NumSaturatedHeterocycles  NumSaturatedCarbocycles  \n",
       "0                            0                        0  \n",
       "1                            0                        0  \n",
       "2                            0                        0  \n",
       "3                            0                        1  \n",
       "4                            0                        2  \n",
       "...                        ...                      ...  \n",
       "4311                         0                        3  \n",
       "4312                         0                        2  \n",
       "4313                         0                        0  \n",
       "4314                         0                        0  \n",
       "4315                         0                        2  \n",
       "\n",
       "[4316 rows x 49 columns]"
      ]
     },
     "execution_count": 127,
     "metadata": {},
     "output_type": "execute_result"
    }
   ],
   "source": [
    "data_count"
   ]
  },
  {
   "cell_type": "code",
   "execution_count": 17,
   "id": "actual-chassis",
   "metadata": {},
   "outputs": [
    {
     "data": {
      "text/plain": [
       "-1"
      ]
     },
     "execution_count": 17,
     "metadata": {},
     "output_type": "execute_result"
    }
   ],
   "source": [
    "train_count['C2'].min()"
   ]
  },
  {
   "cell_type": "markdown",
   "id": "genuine-florida",
   "metadata": {},
   "source": [
    "# Обработка данных"
   ]
  },
  {
   "cell_type": "code",
   "execution_count": 132,
   "id": "hired-wallace",
   "metadata": {},
   "outputs": [],
   "source": [
    "Y_train = data_count['SENTENCE'].copy()\n",
    "data_train = data_count.copy()\n",
    "X_train = data_train.drop(['SMILES', 'SENTENCE'], 1)"
   ]
  },
  {
   "cell_type": "code",
   "execution_count": 133,
   "id": "vital-plenty",
   "metadata": {},
   "outputs": [],
   "source": [
    "def jaccard_distance(y_true, y_pred, smooth=100):\n",
    "    intersection = np.sum(np.abs(y_true * y_pred), axis=-1)\n",
    "    sums = np.sum(np.abs(y_true) + np.abs(y_pred), axis=-1)\n",
    "    jac = (intersection + smooth) / (sums - intersection + smooth)\n",
    "    return (1 - jac) * smooth"
   ]
  },
  {
   "cell_type": "code",
   "execution_count": 134,
   "id": "brutal-belarus",
   "metadata": {},
   "outputs": [],
   "source": [
    "lb = preprocessing.MultiLabelBinarizer(classes = smels)\n",
    "train_ans = pd.DataFrame(lb.fit_transform(Y_train), columns = smels)"
   ]
  },
  {
   "cell_type": "markdown",
   "id": "noted-nerve",
   "metadata": {},
   "source": [
    "# Градиент БУСТ"
   ]
  },
  {
   "cell_type": "code",
   "execution_count": 189,
   "id": "southeast-relation",
   "metadata": {},
   "outputs": [],
   "source": [
    "model = multiclass.OneVsRestClassifier(estimator=ensemble.GradientBoostingClassifier(n_estimators = 1000))"
   ]
  },
  {
   "cell_type": "code",
   "execution_count": 190,
   "id": "comic-accident",
   "metadata": {},
   "outputs": [
    {
     "data": {
      "text/plain": [
       "OneVsRestClassifier(estimator=GradientBoostingClassifier(n_estimators=1000))"
      ]
     },
     "execution_count": 190,
     "metadata": {},
     "output_type": "execute_result"
    }
   ],
   "source": [
    "model.fit(X_train, train_ans)"
   ]
  },
  {
   "cell_type": "code",
   "execution_count": 191,
   "id": "alert-sunrise",
   "metadata": {},
   "outputs": [],
   "source": [
    "output = model.predict_proba(X_train)\n",
    "a = pd.DataFrame(output, columns = smels)\n",
    "for i in range(len(a)):\n",
    "    threshold = a.iloc[i].sort_values()[-3]\n",
    "    a.iloc[i] = a.iloc[i].apply(lambda x : 0 if x < threshold else 1)"
   ]
  },
  {
   "cell_type": "code",
   "execution_count": 192,
   "id": "present-consortium",
   "metadata": {},
   "outputs": [
    {
     "data": {
      "text/plain": [
       "1.7731642754356105"
      ]
     },
     "execution_count": 192,
     "metadata": {},
     "output_type": "execute_result"
    }
   ],
   "source": [
    "jaccard_distance(np.array(train_ans), np.array(a)).mean()"
   ]
  },
  {
   "cell_type": "code",
   "execution_count": 193,
   "id": "falling-guest",
   "metadata": {},
   "outputs": [],
   "source": [
    "output = model.predict(X_train)"
   ]
  },
  {
   "cell_type": "code",
   "execution_count": 194,
   "id": "partial-lesbian",
   "metadata": {},
   "outputs": [
    {
     "data": {
      "text/plain": [
       "array([[0, 0, 0, ..., 0, 0, 0],\n",
       "       [0, 0, 0, ..., 0, 0, 0],\n",
       "       [0, 0, 0, ..., 0, 0, 0],\n",
       "       ...,\n",
       "       [0, 0, 0, ..., 0, 0, 1],\n",
       "       [0, 0, 0, ..., 0, 0, 0],\n",
       "       [0, 0, 0, ..., 0, 0, 0]])"
      ]
     },
     "execution_count": 194,
     "metadata": {},
     "output_type": "execute_result"
    }
   ],
   "source": [
    "output"
   ]
  },
  {
   "cell_type": "code",
   "execution_count": 195,
   "id": "sealed-certification",
   "metadata": {},
   "outputs": [
    {
     "data": {
      "text/plain": [
       "1.1848196093495318"
      ]
     },
     "execution_count": 195,
     "metadata": {},
     "output_type": "execute_result"
    }
   ],
   "source": [
    "jaccard_distance(np.array(train_ans),output).mean()"
   ]
  },
  {
   "cell_type": "code",
   "execution_count": 199,
   "id": "consolidated-diesel",
   "metadata": {},
   "outputs": [
    {
     "data": {
      "text/plain": [
       "0.4526261585993821"
      ]
     },
     "execution_count": 199,
     "metadata": {},
     "output_type": "execute_result"
    }
   ],
   "source": [
    "metrics.accuracy_score(np.array(train_ans),output)"
   ]
  },
  {
   "cell_type": "code",
   "execution_count": 138,
   "id": "increased-western",
   "metadata": {},
   "outputs": [],
   "source": [
    "pickle.dump(model2, open('C:\\\\Users\\\\krvet\\\\Documents\\\\GitHub\\\\aicrowd_learn_to_smell\\\\data\\\\modelRandomForestClassifier', 'wb'))"
   ]
  },
  {
   "cell_type": "code",
   "execution_count": 206,
   "id": "fleet-advance",
   "metadata": {},
   "outputs": [],
   "source": [
    "train_count.to_csv('C:\\\\Users\\\\krvet\\\\Documents\\\\GitHub\\\\aicrowd_learn_to_smell\\\\data\\\\train_count.csv')\n",
    "validation_count.to_csv('C:\\\\Users\\\\krvet\\\\Documents\\\\GitHub\\\\aicrowd_learn_to_smell\\\\data\\\\validation_count.csv')\n",
    "hold_count.to_csv('C:\\\\Users\\\\krvet\\\\Documents\\\\GitHub\\\\aicrowd_learn_to_smell\\\\data\\\\hold_count.csv')"
   ]
  },
  {
   "cell_type": "code",
   "execution_count": 203,
   "id": "binary-husband",
   "metadata": {},
   "outputs": [
    {
     "data": {
      "text/plain": [
       "3.030423649766311"
      ]
     },
     "execution_count": 203,
     "metadata": {},
     "output_type": "execute_result"
    }
   ],
   "source": [
    "a = hold_count\n",
    "\n",
    "\n",
    "Y = a['SENTENCE'].copy()\n",
    "data = a.copy()\n",
    "X = a.drop(['SMILES','Unnamed: 0', 'SENTENCE'], 1)\n",
    "ans = lb.fit_transform(Y)\n",
    "output = model.predict(X)\n",
    "jaccard_distance(ans,output).mean()"
   ]
  },
  {
   "cell_type": "code",
   "execution_count": 204,
   "id": "enormous-crack",
   "metadata": {},
   "outputs": [
    {
     "data": {
      "text/plain": [
       "0.08045977011494253"
      ]
     },
     "execution_count": 204,
     "metadata": {},
     "output_type": "execute_result"
    }
   ],
   "source": [
    "metrics.accuracy_score(ans,output)"
   ]
  },
  {
   "cell_type": "markdown",
   "id": "global-large",
   "metadata": {},
   "source": [
    "# ЛЕС"
   ]
  },
  {
   "cell_type": "code",
   "execution_count": 135,
   "id": "alpine-portfolio",
   "metadata": {},
   "outputs": [
    {
     "data": {
      "text/plain": [
       "OneVsRestClassifier(estimator=RandomForestClassifier(criterion='entropy',\n",
       "                                                     n_estimators=220,\n",
       "                                                     n_jobs=-1,\n",
       "                                                     random_state=42))"
      ]
     },
     "execution_count": 135,
     "metadata": {},
     "output_type": "execute_result"
    }
   ],
   "source": [
    "model2 = multiclass.OneVsRestClassifier(estimator=ensemble.RandomForestClassifier(n_estimators = 220, criterion = 'entropy', \n",
    "                                                                                 random_state = 42, n_jobs = -1))\n",
    "model2.fit(X_train, train_ans)"
   ]
  },
  {
   "cell_type": "code",
   "execution_count": null,
   "id": "reduced-missile",
   "metadata": {},
   "outputs": [],
   "source": []
  },
  {
   "cell_type": "code",
   "execution_count": 136,
   "id": "editorial-casting",
   "metadata": {},
   "outputs": [
    {
     "data": {
      "text/plain": [
       "1.2150415043724083"
      ]
     },
     "execution_count": 136,
     "metadata": {},
     "output_type": "execute_result"
    }
   ],
   "source": [
    "a = hold_count\n",
    "\n",
    "\n",
    "Y = a['SENTENCE'].copy()\n",
    "data = a.copy()\n",
    "X = a.drop(['SMILES','Unnamed: 0', 'SENTENCE'], 1)\n",
    "ans = lb.fit_transform(Y)\n",
    "output = model2.predict(X)\n",
    "jaccard_distance(ans,output).mean()"
   ]
  },
  {
   "cell_type": "code",
   "execution_count": 137,
   "id": "hired-vegetable",
   "metadata": {},
   "outputs": [
    {
     "data": {
      "text/plain": [
       "0.5057471264367817"
      ]
     },
     "execution_count": 137,
     "metadata": {},
     "output_type": "execute_result"
    }
   ],
   "source": [
    "metrics.accuracy_score(ans,output)"
   ]
  },
  {
   "cell_type": "markdown",
   "id": "cooked-container",
   "metadata": {},
   "source": [
    "# lightgbm.LGBMRegressor"
   ]
  },
  {
   "cell_type": "code",
   "execution_count": 24,
   "id": "backed-beads",
   "metadata": {},
   "outputs": [
    {
     "data": {
      "text/plain": [
       "OneVsRestClassifier(estimator=LGBMRegressor(n_estimators=1000))"
      ]
     },
     "execution_count": 24,
     "metadata": {},
     "output_type": "execute_result"
    }
   ],
   "source": [
    "model3 = multiclass.OneVsRestClassifier(estimator=lgbm.LGBMRegressor(n_estimators = 1000))\n",
    "model3.fit(X_train, train_ans)"
   ]
  },
  {
   "cell_type": "code",
   "execution_count": 25,
   "id": "hollywood-status",
   "metadata": {},
   "outputs": [
    {
     "data": {
      "text/plain": [
       "3.057982256136503"
      ]
     },
     "execution_count": 25,
     "metadata": {},
     "output_type": "execute_result"
    }
   ],
   "source": [
    "a = hold_count\n",
    "\n",
    "\n",
    "Y = a['SENTENCE'].copy()\n",
    "data = a.copy()\n",
    "X = a.drop(['SMILES','Unnamed: 0', 'SENTENCE'], 1)\n",
    "ans = lb.fit_transform(Y)\n",
    "output = model3.predict(X)\n",
    "jaccard_distance(ans,output).mean()"
   ]
  },
  {
   "cell_type": "code",
   "execution_count": 26,
   "id": "celtic-spray",
   "metadata": {},
   "outputs": [
    {
     "data": {
      "text/plain": [
       "0.08045977011494253"
      ]
     },
     "execution_count": 26,
     "metadata": {},
     "output_type": "execute_result"
    }
   ],
   "source": [
    "metrics.accuracy_score(ans,output)"
   ]
  },
  {
   "cell_type": "markdown",
   "id": "amber-signal",
   "metadata": {},
   "source": [
    "# sklearn.svm.SVC"
   ]
  },
  {
   "cell_type": "code",
   "execution_count": 23,
   "id": "rental-companion",
   "metadata": {},
   "outputs": [
    {
     "name": "stdout",
     "output_type": "stream",
     "text": [
      "2.624122178636144\n",
      "0.034482758620689655\n"
     ]
    }
   ],
   "source": [
    "model4 = multiclass.OneVsRestClassifier(estimator=svm.SVC())\n",
    "model4.fit(X_train, train_ans)\n",
    "a = hold_count\n",
    "\n",
    "\n",
    "Y = a['SENTENCE'].copy()\n",
    "data = a.copy()\n",
    "X = a.drop(['SMILES','Unnamed: 0', 'SENTENCE'], 1)\n",
    "ans = lb.fit_transform(Y)\n",
    "output = model4.predict(X)\n",
    "print(jaccard_distance(ans,output).mean())\n",
    "print(metrics.accuracy_score(ans,output))"
   ]
  },
  {
   "cell_type": "markdown",
   "id": "rotary-battery",
   "metadata": {},
   "source": [
    "# KNN"
   ]
  },
  {
   "cell_type": "code",
   "execution_count": 92,
   "id": "subjective-rubber",
   "metadata": {},
   "outputs": [
    {
     "ename": "NameError",
     "evalue": "name 'X_train' is not defined",
     "output_type": "error",
     "traceback": [
      "\u001b[1;31m---------------------------------------------------------------------------\u001b[0m",
      "\u001b[1;31mNameError\u001b[0m                                 Traceback (most recent call last)",
      "\u001b[1;32m<ipython-input-92-b4a16860f955>\u001b[0m in \u001b[0;36m<module>\u001b[1;34m\u001b[0m\n\u001b[0;32m      1\u001b[0m \u001b[0mmodel5\u001b[0m \u001b[1;33m=\u001b[0m \u001b[0mmulticlass\u001b[0m\u001b[1;33m.\u001b[0m\u001b[0mOneVsRestClassifier\u001b[0m\u001b[1;33m(\u001b[0m\u001b[0mestimator\u001b[0m\u001b[1;33m=\u001b[0m\u001b[0mlgbm\u001b[0m\u001b[1;33m.\u001b[0m\u001b[0mLGBMRegressor\u001b[0m\u001b[1;33m(\u001b[0m\u001b[0mn_estimators\u001b[0m \u001b[1;33m=\u001b[0m \u001b[1;36m1000\u001b[0m\u001b[1;33m)\u001b[0m \u001b[1;33m)\u001b[0m\u001b[1;33m\u001b[0m\u001b[1;33m\u001b[0m\u001b[0m\n\u001b[1;32m----> 2\u001b[1;33m \u001b[0mmodel5\u001b[0m\u001b[1;33m.\u001b[0m\u001b[0mfit\u001b[0m\u001b[1;33m(\u001b[0m\u001b[0mX_train\u001b[0m\u001b[1;33m,\u001b[0m \u001b[0mtrain_ans\u001b[0m\u001b[1;33m)\u001b[0m\u001b[1;33m\u001b[0m\u001b[1;33m\u001b[0m\u001b[0m\n\u001b[0m\u001b[0;32m      3\u001b[0m \u001b[0ma\u001b[0m \u001b[1;33m=\u001b[0m \u001b[0mhold_count\u001b[0m\u001b[1;33m\u001b[0m\u001b[1;33m\u001b[0m\u001b[0m\n\u001b[0;32m      4\u001b[0m \u001b[1;33m\u001b[0m\u001b[0m\n\u001b[0;32m      5\u001b[0m \u001b[1;33m\u001b[0m\u001b[0m\n",
      "\u001b[1;31mNameError\u001b[0m: name 'X_train' is not defined"
     ]
    }
   ],
   "source": [
    "model5 = multiclass.OneVsRestClassifier(estimator=neighbors.KNeighborsClassifier( n_jobs=-1,\n",
    "                                                                                     n_neighbors = 100, \n",
    "                                                                                     weights= 'distance',\n",
    "                                                                                     algorithm = 'kd_tree') )\n",
    "model5.fit(X_train, train_ans)\n",
    "a = hold_count\n",
    "\n",
    "\n",
    "Y = a['SENTENCE'].copy()\n",
    "data = a.copy()\n",
    "X = a.drop(['SMILES','Unnamed: 0', 'SENTENCE'], 1)\n",
    "ans = lb.fit_transform(Y)\n",
    "output = model5.predict(X)\n",
    "print(jaccard_distance(ans,output).mean())\n",
    "print(metrics.accuracy_score(ans,output))"
   ]
  },
  {
   "cell_type": "markdown",
   "id": "fitting-hunger",
   "metadata": {},
   "source": [
    "# Try with words"
   ]
  },
  {
   "cell_type": "code",
   "execution_count": 93,
   "id": "particular-depth",
   "metadata": {},
   "outputs": [
    {
     "data": {
      "text/html": [
       "<div>\n",
       "<style scoped>\n",
       "    .dataframe tbody tr th:only-of-type {\n",
       "        vertical-align: middle;\n",
       "    }\n",
       "\n",
       "    .dataframe tbody tr th {\n",
       "        vertical-align: top;\n",
       "    }\n",
       "\n",
       "    .dataframe thead th {\n",
       "        text-align: right;\n",
       "    }\n",
       "</style>\n",
       "<table border=\"1\" class=\"dataframe\">\n",
       "  <thead>\n",
       "    <tr style=\"text-align: right;\">\n",
       "      <th></th>\n",
       "      <th>aldehydic</th>\n",
       "      <th>almond</th>\n",
       "      <th>ambery</th>\n",
       "      <th>animalic</th>\n",
       "      <th>anisic</th>\n",
       "      <th>apple</th>\n",
       "      <th>balsamic</th>\n",
       "      <th>banana</th>\n",
       "      <th>berry</th>\n",
       "      <th>blackcurrant</th>\n",
       "      <th>...</th>\n",
       "      <th>spicy</th>\n",
       "      <th>sulfuric</th>\n",
       "      <th>sweet</th>\n",
       "      <th>tropicalfruit</th>\n",
       "      <th>vanilla</th>\n",
       "      <th>vegetable</th>\n",
       "      <th>violetflower</th>\n",
       "      <th>watery</th>\n",
       "      <th>waxy</th>\n",
       "      <th>woody</th>\n",
       "    </tr>\n",
       "  </thead>\n",
       "  <tbody>\n",
       "    <tr>\n",
       "      <th>0</th>\n",
       "      <td>0</td>\n",
       "      <td>0</td>\n",
       "      <td>0</td>\n",
       "      <td>0</td>\n",
       "      <td>0</td>\n",
       "      <td>0</td>\n",
       "      <td>0</td>\n",
       "      <td>0</td>\n",
       "      <td>0</td>\n",
       "      <td>0</td>\n",
       "      <td>...</td>\n",
       "      <td>0</td>\n",
       "      <td>0</td>\n",
       "      <td>0</td>\n",
       "      <td>0</td>\n",
       "      <td>1</td>\n",
       "      <td>0</td>\n",
       "      <td>0</td>\n",
       "      <td>0</td>\n",
       "      <td>0</td>\n",
       "      <td>0</td>\n",
       "    </tr>\n",
       "    <tr>\n",
       "      <th>1</th>\n",
       "      <td>0</td>\n",
       "      <td>0</td>\n",
       "      <td>0</td>\n",
       "      <td>0</td>\n",
       "      <td>0</td>\n",
       "      <td>0</td>\n",
       "      <td>0</td>\n",
       "      <td>0</td>\n",
       "      <td>0</td>\n",
       "      <td>0</td>\n",
       "      <td>...</td>\n",
       "      <td>0</td>\n",
       "      <td>0</td>\n",
       "      <td>0</td>\n",
       "      <td>0</td>\n",
       "      <td>0</td>\n",
       "      <td>0</td>\n",
       "      <td>0</td>\n",
       "      <td>0</td>\n",
       "      <td>0</td>\n",
       "      <td>0</td>\n",
       "    </tr>\n",
       "    <tr>\n",
       "      <th>2</th>\n",
       "      <td>0</td>\n",
       "      <td>0</td>\n",
       "      <td>0</td>\n",
       "      <td>0</td>\n",
       "      <td>0</td>\n",
       "      <td>0</td>\n",
       "      <td>0</td>\n",
       "      <td>0</td>\n",
       "      <td>0</td>\n",
       "      <td>0</td>\n",
       "      <td>...</td>\n",
       "      <td>0</td>\n",
       "      <td>0</td>\n",
       "      <td>0</td>\n",
       "      <td>0</td>\n",
       "      <td>0</td>\n",
       "      <td>0</td>\n",
       "      <td>0</td>\n",
       "      <td>0</td>\n",
       "      <td>0</td>\n",
       "      <td>0</td>\n",
       "    </tr>\n",
       "    <tr>\n",
       "      <th>3</th>\n",
       "      <td>0</td>\n",
       "      <td>0</td>\n",
       "      <td>0</td>\n",
       "      <td>0</td>\n",
       "      <td>0</td>\n",
       "      <td>0</td>\n",
       "      <td>0</td>\n",
       "      <td>0</td>\n",
       "      <td>0</td>\n",
       "      <td>0</td>\n",
       "      <td>...</td>\n",
       "      <td>0</td>\n",
       "      <td>0</td>\n",
       "      <td>0</td>\n",
       "      <td>0</td>\n",
       "      <td>0</td>\n",
       "      <td>0</td>\n",
       "      <td>0</td>\n",
       "      <td>0</td>\n",
       "      <td>0</td>\n",
       "      <td>0</td>\n",
       "    </tr>\n",
       "    <tr>\n",
       "      <th>4</th>\n",
       "      <td>0</td>\n",
       "      <td>0</td>\n",
       "      <td>0</td>\n",
       "      <td>0</td>\n",
       "      <td>0</td>\n",
       "      <td>0</td>\n",
       "      <td>0</td>\n",
       "      <td>0</td>\n",
       "      <td>0</td>\n",
       "      <td>0</td>\n",
       "      <td>...</td>\n",
       "      <td>0</td>\n",
       "      <td>0</td>\n",
       "      <td>0</td>\n",
       "      <td>0</td>\n",
       "      <td>1</td>\n",
       "      <td>0</td>\n",
       "      <td>0</td>\n",
       "      <td>0</td>\n",
       "      <td>0</td>\n",
       "      <td>0</td>\n",
       "    </tr>\n",
       "    <tr>\n",
       "      <th>...</th>\n",
       "      <td>...</td>\n",
       "      <td>...</td>\n",
       "      <td>...</td>\n",
       "      <td>...</td>\n",
       "      <td>...</td>\n",
       "      <td>...</td>\n",
       "      <td>...</td>\n",
       "      <td>...</td>\n",
       "      <td>...</td>\n",
       "      <td>...</td>\n",
       "      <td>...</td>\n",
       "      <td>...</td>\n",
       "      <td>...</td>\n",
       "      <td>...</td>\n",
       "      <td>...</td>\n",
       "      <td>...</td>\n",
       "      <td>...</td>\n",
       "      <td>...</td>\n",
       "      <td>...</td>\n",
       "      <td>...</td>\n",
       "      <td>...</td>\n",
       "    </tr>\n",
       "    <tr>\n",
       "      <th>3879</th>\n",
       "      <td>0</td>\n",
       "      <td>0</td>\n",
       "      <td>1</td>\n",
       "      <td>0</td>\n",
       "      <td>0</td>\n",
       "      <td>0</td>\n",
       "      <td>0</td>\n",
       "      <td>0</td>\n",
       "      <td>0</td>\n",
       "      <td>0</td>\n",
       "      <td>...</td>\n",
       "      <td>0</td>\n",
       "      <td>0</td>\n",
       "      <td>0</td>\n",
       "      <td>0</td>\n",
       "      <td>0</td>\n",
       "      <td>0</td>\n",
       "      <td>1</td>\n",
       "      <td>0</td>\n",
       "      <td>0</td>\n",
       "      <td>0</td>\n",
       "    </tr>\n",
       "    <tr>\n",
       "      <th>3880</th>\n",
       "      <td>0</td>\n",
       "      <td>0</td>\n",
       "      <td>0</td>\n",
       "      <td>0</td>\n",
       "      <td>0</td>\n",
       "      <td>0</td>\n",
       "      <td>0</td>\n",
       "      <td>0</td>\n",
       "      <td>0</td>\n",
       "      <td>0</td>\n",
       "      <td>...</td>\n",
       "      <td>0</td>\n",
       "      <td>0</td>\n",
       "      <td>0</td>\n",
       "      <td>0</td>\n",
       "      <td>0</td>\n",
       "      <td>0</td>\n",
       "      <td>0</td>\n",
       "      <td>0</td>\n",
       "      <td>0</td>\n",
       "      <td>0</td>\n",
       "    </tr>\n",
       "    <tr>\n",
       "      <th>3881</th>\n",
       "      <td>0</td>\n",
       "      <td>0</td>\n",
       "      <td>0</td>\n",
       "      <td>0</td>\n",
       "      <td>0</td>\n",
       "      <td>0</td>\n",
       "      <td>0</td>\n",
       "      <td>0</td>\n",
       "      <td>0</td>\n",
       "      <td>0</td>\n",
       "      <td>...</td>\n",
       "      <td>0</td>\n",
       "      <td>0</td>\n",
       "      <td>1</td>\n",
       "      <td>0</td>\n",
       "      <td>0</td>\n",
       "      <td>0</td>\n",
       "      <td>0</td>\n",
       "      <td>0</td>\n",
       "      <td>0</td>\n",
       "      <td>1</td>\n",
       "    </tr>\n",
       "    <tr>\n",
       "      <th>3882</th>\n",
       "      <td>0</td>\n",
       "      <td>0</td>\n",
       "      <td>0</td>\n",
       "      <td>0</td>\n",
       "      <td>0</td>\n",
       "      <td>0</td>\n",
       "      <td>0</td>\n",
       "      <td>0</td>\n",
       "      <td>0</td>\n",
       "      <td>0</td>\n",
       "      <td>...</td>\n",
       "      <td>0</td>\n",
       "      <td>0</td>\n",
       "      <td>0</td>\n",
       "      <td>1</td>\n",
       "      <td>0</td>\n",
       "      <td>0</td>\n",
       "      <td>0</td>\n",
       "      <td>0</td>\n",
       "      <td>0</td>\n",
       "      <td>1</td>\n",
       "    </tr>\n",
       "    <tr>\n",
       "      <th>3883</th>\n",
       "      <td>0</td>\n",
       "      <td>0</td>\n",
       "      <td>0</td>\n",
       "      <td>0</td>\n",
       "      <td>0</td>\n",
       "      <td>0</td>\n",
       "      <td>0</td>\n",
       "      <td>0</td>\n",
       "      <td>0</td>\n",
       "      <td>0</td>\n",
       "      <td>...</td>\n",
       "      <td>0</td>\n",
       "      <td>0</td>\n",
       "      <td>0</td>\n",
       "      <td>0</td>\n",
       "      <td>0</td>\n",
       "      <td>1</td>\n",
       "      <td>0</td>\n",
       "      <td>0</td>\n",
       "      <td>0</td>\n",
       "      <td>0</td>\n",
       "    </tr>\n",
       "  </tbody>\n",
       "</table>\n",
       "<p>3884 rows × 75 columns</p>\n",
       "</div>"
      ],
      "text/plain": [
       "      aldehydic  almond  ambery  animalic  anisic  apple  balsamic  banana  \\\n",
       "0             0       0       0         0       0      0         0       0   \n",
       "1             0       0       0         0       0      0         0       0   \n",
       "2             0       0       0         0       0      0         0       0   \n",
       "3             0       0       0         0       0      0         0       0   \n",
       "4             0       0       0         0       0      0         0       0   \n",
       "...         ...     ...     ...       ...     ...    ...       ...     ...   \n",
       "3879          0       0       1         0       0      0         0       0   \n",
       "3880          0       0       0         0       0      0         0       0   \n",
       "3881          0       0       0         0       0      0         0       0   \n",
       "3882          0       0       0         0       0      0         0       0   \n",
       "3883          0       0       0         0       0      0         0       0   \n",
       "\n",
       "      berry  blackcurrant  ...  spicy  sulfuric  sweet  tropicalfruit  \\\n",
       "0         0             0  ...      0         0      0              0   \n",
       "1         0             0  ...      0         0      0              0   \n",
       "2         0             0  ...      0         0      0              0   \n",
       "3         0             0  ...      0         0      0              0   \n",
       "4         0             0  ...      0         0      0              0   \n",
       "...     ...           ...  ...    ...       ...    ...            ...   \n",
       "3879      0             0  ...      0         0      0              0   \n",
       "3880      0             0  ...      0         0      0              0   \n",
       "3881      0             0  ...      0         0      1              0   \n",
       "3882      0             0  ...      0         0      0              1   \n",
       "3883      0             0  ...      0         0      0              0   \n",
       "\n",
       "      vanilla  vegetable  violetflower  watery  waxy  woody  \n",
       "0           1          0             0       0     0      0  \n",
       "1           0          0             0       0     0      0  \n",
       "2           0          0             0       0     0      0  \n",
       "3           0          0             0       0     0      0  \n",
       "4           1          0             0       0     0      0  \n",
       "...       ...        ...           ...     ...   ...    ...  \n",
       "3879        0          0             1       0     0      0  \n",
       "3880        0          0             0       0     0      0  \n",
       "3881        0          0             0       0     0      1  \n",
       "3882        0          0             0       0     0      1  \n",
       "3883        0          1             0       0     0      0  \n",
       "\n",
       "[3884 rows x 75 columns]"
      ]
     },
     "execution_count": 93,
     "metadata": {},
     "output_type": "execute_result"
    }
   ],
   "source": [
    "lb = preprocessing.MultiLabelBinarizer(classes = smels)\n",
    "train_ans = pd.DataFrame(lb.fit_transform(train_true['SENTENCE']), columns = smels)\n",
    "train_ans"
   ]
  },
  {
   "cell_type": "code",
   "execution_count": 107,
   "id": "phantom-marathon",
   "metadata": {},
   "outputs": [],
   "source": [
    "model = multiclass.OneVsRestClassifier(estimator=lgbm.LGBMRegressor(n_estimators = 1000) )"
   ]
  },
  {
   "cell_type": "code",
   "execution_count": 108,
   "id": "flying-scope",
   "metadata": {},
   "outputs": [],
   "source": [
    "def split(a):\n",
    "    df = a.copy()\n",
    "    for i in range(len(df)):\n",
    "        q = df[i]\n",
    "        df[i] = ''\n",
    "        for w in range(len(q)):\n",
    "            for e in range(w, len(q)): \n",
    "                  df[i] += ' ' + q[w:e] \n",
    "    return df\n"
   ]
  },
  {
   "cell_type": "code",
   "execution_count": 109,
   "id": "beautiful-residence",
   "metadata": {},
   "outputs": [],
   "source": [
    "tfidf_pipe = pipeline.Pipeline(steps = [('vectorizer', TfidfVectorizer(min_df = 3)), \n",
    "                                        ('classifier', model)])"
   ]
  },
  {
   "cell_type": "code",
   "execution_count": 110,
   "id": "interpreted-battery",
   "metadata": {},
   "outputs": [],
   "source": [
    "tr_qw = pd.DataFrame(lb.fit_transform(train_true['SENTENCE']), columns = smels)"
   ]
  },
  {
   "cell_type": "code",
   "execution_count": 111,
   "id": "revolutionary-cliff",
   "metadata": {},
   "outputs": [
    {
     "data": {
      "text/plain": [
       "Pipeline(steps=[('vectorizer', TfidfVectorizer(min_df=3)),\n",
       "                ('classifier',\n",
       "                 OneVsRestClassifier(estimator=LGBMRegressor(n_estimators=1000)))])"
      ]
     },
     "execution_count": 111,
     "metadata": {},
     "output_type": "execute_result"
    }
   ],
   "source": [
    "tfidf_pipe.fit(split(train_true['SMILES']), train_ans)"
   ]
  },
  {
   "cell_type": "code",
   "execution_count": 112,
   "id": "alone-scoop",
   "metadata": {},
   "outputs": [
    {
     "name": "stdout",
     "output_type": "stream",
     "text": [
      "3.11622914794184\n",
      "0.06896551724137931\n"
     ]
    }
   ],
   "source": [
    "output = tfidf_pipe.predict(split(hold_true['SMILES']))\n",
    "ans = lb.fit_transform(hold_true['SENTENCE'])\n",
    "print(jaccard_distance(ans,output).mean())\n",
    "print(metrics.accuracy_score(ans,output))"
   ]
  },
  {
   "cell_type": "code",
   "execution_count": null,
   "id": "sharp-handling",
   "metadata": {},
   "outputs": [],
   "source": []
  }
 ],
 "metadata": {
  "kernelspec": {
   "display_name": "Python 3",
   "language": "python",
   "name": "python3"
  },
  "language_info": {
   "codemirror_mode": {
    "name": "ipython",
    "version": 3
   },
   "file_extension": ".py",
   "mimetype": "text/x-python",
   "name": "python",
   "nbconvert_exporter": "python",
   "pygments_lexer": "ipython3",
   "version": "3.9.1"
  }
 },
 "nbformat": 4,
 "nbformat_minor": 5
}
